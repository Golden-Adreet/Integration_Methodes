{
  "nbformat": 4,
  "nbformat_minor": 0,
  "metadata": {
    "colab": {
      "provenance": [],
      "authorship_tag": "ABX9TyM140XRrCNNCtp5/W6x2IYo",
      "include_colab_link": true
    },
    "kernelspec": {
      "name": "python3",
      "display_name": "Python 3"
    },
    "language_info": {
      "name": "python"
    }
  },
  "cells": [
    {
      "cell_type": "markdown",
      "metadata": {
        "id": "view-in-github",
        "colab_type": "text"
      },
      "source": [
        "<a href=\"https://colab.research.google.com/github/Golden-Adreet/Integration_Methodes/blob/main/Simpson's_Method.ipynb\" target=\"_parent\"><img src=\"https://colab.research.google.com/assets/colab-badge.svg\" alt=\"Open In Colab\"/></a>"
      ]
    },
    {
      "cell_type": "code",
      "execution_count": 1,
      "metadata": {
        "id": "Q-xqxAVoivrO"
      },
      "outputs": [],
      "source": [
        "import numpy as np\n",
        "import scipy.integrate as sci"
      ]
    },
    {
      "cell_type": "code",
      "source": [
        "def f(x):\n",
        "  return x**3*np.exp(-x)"
      ],
      "metadata": {
        "id": "HguOhhsVjIn0"
      },
      "execution_count": 2,
      "outputs": []
    },
    {
      "cell_type": "code",
      "source": [
        "a = float(input('Enter starting point:'))\n",
        "b = float(input('Enter end point:'))\n",
        "t = abs(int(input('Enter the number of divisons:')))\n",
        "h = (abs((b-a)/t))\n",
        "s1 = 0\n",
        "s2 = 0\n",
        "for i in range(2,t-2,2):\n",
        "  s1+= f(a+i*h)\n",
        "for i in range(1,t-1,2):\n",
        "  s2+= f(a+i*h)\n",
        "X =lambda x,y: f'The Value of the integration of \"x**3*exp(-x)\" from {a} to {b} using {x} gives:{y}'\n",
        "x = np.linspace(a, b, 1000)\n",
        "print(X('Simpson\\'s Method',h/3*(f(a)+f(b)+4*s2+2*s1)))\n",
        "print(X('numpy',np.trapz(f(x),x)))\n",
        "print(X('scipy.integrate',sci.trapz(f(x),x)))"
      ],
      "metadata": {
        "colab": {
          "base_uri": "https://localhost:8080/"
        },
        "id": "9u_h4s0ujJAj",
        "outputId": "7e54a1a9-3f7a-4ad0-e851-b5260824a5d3"
      },
      "execution_count": 3,
      "outputs": [
        {
          "output_type": "stream",
          "name": "stdout",
          "text": [
            "Enter starting point:0\n",
            "Enter end point:10\n",
            "Enter the number of divisons:100\n",
            "The Value of the integration of \"x**3*exp(-x)\" from 0.0 to 10.0 using Simpson's Method. gives:5.928009762610391\n",
            "The Value of the integration of \"x**3*exp(-x)\" from 0.0 to 10.0 using numpy gives:5.9379834306649\n",
            "The Value of the integration of \"x**3*exp(-x)\" from 0.0 to 10.0 using scipy.integrate gives:5.9379834306649\n"
          ]
        }
      ]
    }
  ]
}