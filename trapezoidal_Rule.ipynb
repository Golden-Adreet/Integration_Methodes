{
  "nbformat": 4,
  "nbformat_minor": 0,
  "metadata": {
    "colab": {
      "provenance": [],
      "authorship_tag": "ABX9TyOkYcfBe8LDp51ZRBXHefjG",
      "include_colab_link": true
    },
    "kernelspec": {
      "name": "python3",
      "display_name": "Python 3"
    },
    "language_info": {
      "name": "python"
    }
  },
  "cells": [
    {
      "cell_type": "markdown",
      "metadata": {
        "id": "view-in-github",
        "colab_type": "text"
      },
      "source": [
        "<a href=\"https://colab.research.google.com/github/Golden-Adreet/Integration_Methodes/blob/main/trapezoidal_Rule.ipynb\" target=\"_parent\"><img src=\"https://colab.research.google.com/assets/colab-badge.svg\" alt=\"Open In Colab\"/></a>"
      ]
    },
    {
      "cell_type": "code",
      "execution_count": 9,
      "metadata": {
        "id": "yrlL7xy1Sms7"
      },
      "outputs": [],
      "source": [
        "import numpy as np\n",
        "import scipy.integrate as sci\n",
        "from sympy import sympify"
      ]
    },
    {
      "cell_type": "code",
      "source": [
        "def f(x):\n",
        "  return x**3*np.exp(-x)"
      ],
      "metadata": {
        "id": "13cQsa7qVCkA"
      },
      "execution_count": 32,
      "outputs": []
    },
    {
      "cell_type": "code",
      "source": [
        "a = float(input('Enter starting point:'))\n",
        "b = float(input('Enter end point:'))\n",
        "t = abs(int(input('Enter the number of divisons:')))\n",
        "h = (abs((b-a)/t))\n",
        "s = 0.5*(f(a)+f(b))\n",
        "for i in range(1,t-1):\n",
        "  s+= f(a+i*h)\n",
        "X =lambda x,y: f'The Value of the integration of \"x**3*exp(-x)\" from {a} to {b} using {x} gives:{y}'\n",
        "x = np.linspace(a, b, 1000)\n",
        "print(X('trapezoidal rule',h*s))\n",
        "print(X('numpy',np.trapz(f(x),x)))\n",
        "print(X('scipy.integrate',sci.trapz(f(x),x)))"
      ],
      "metadata": {
        "colab": {
          "base_uri": "https://localhost:8080/"
        },
        "id": "2iFkuUz_TnmH",
        "outputId": "680ff164-7c21-4db5-9533-3abead2bdb59"
      },
      "execution_count": 41,
      "outputs": [
        {
          "output_type": "stream",
          "name": "stdout",
          "text": [
            "Enter starting point:0\n",
            "Enter end point:10\n",
            "Enter the number of divisons:100\n",
            "The Value of the integration of \"x**3*exp(-x)\" from 0.0 to 10.0 using trapezoidal rule gives:5.933089601348246\n",
            "The Value of the integration of \"x**3*exp(-x)\" from 0.0 to 10.0 using numpy gives:5.9379834306649\n",
            "The Value of the integration of \"x**3*exp(-x)\" from 0.0 to 10.0 using scipy.integrate gives:5.9379834306649\n"
          ]
        }
      ]
    }
  ]
}